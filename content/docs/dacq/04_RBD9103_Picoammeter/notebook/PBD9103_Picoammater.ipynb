{
 "cells": [
  {
   "cell_type": "markdown",
   "metadata": {},
   "source": [
    "# Communicating with the RBD 9103 Picoammeter in Python"
   ]
  },
  {
   "cell_type": "markdown",
   "metadata": {},
   "source": [
    "#### Updated -  28/09/2021"
   ]
  },
  {
   "cell_type": "markdown",
   "metadata": {},
   "source": [
    "## Introduction\n",
    "\n",
    "The [RBD 9103 Autoranging Picoammeter](http://www.rbdinstruments.com/products/picoammeter.html) is a USB device capable of measuring currents in the low pA to low mA range. The device has a variety of filter settings that can be used if the data are noisy, and it can produce currents on demand, or deliver them at some selectable rate. While the range can be user-selected, it is recommended to use it in auto-ranging mode.\n",
    "\n",
    "Communication with the device can be through the software provided, a serial terminal communication program, or through Python using the pyserial library."
   ]
  },
  {
   "cell_type": "markdown",
   "metadata": {},
   "source": [
    "## Initial Set Up\n",
    "\n",
    "Please read this in consultation with the user manual: \n",
    "\n",
    "https://www.rbdinstruments.com/products/files/downloads/9103//9103-picoammeter-user-guide.pdf\n",
    "\n",
    "Once the device driver has been installed the picoammeter can be accessed as a serial device on the PC by reading/writing text commands, or by using the *Actual* software that comes with it. The *Actuel* software includes a console that can be used to write and read commands. \n",
    "\n",
    "Alternatively I used the *Termite* (http://www.compuphase.com/software_termite.htm) serial communication software for testing. To use in termite or Python we must first find out what COM port it is on. Do this by looking for *FT232R USB UART* in Windows (7) *Devices and Printers*, double click on it and select *Hardware* and we see the COM port (COM3 when I tested this one). If you are having problems I recommend this as a fallback to see what the device is doing."
   ]
  },
  {
   "cell_type": "markdown",
   "metadata": {},
   "source": [
    "## COM Port Configuration \n",
    "\n",
    "To establish serial communications with the device we need to have the right settings, from the manual (*Communications and Command Reference*):\n",
    "\n",
    "| Setting | Value |\n",
    "|---------|-------|\n",
    "| Bits per Second (Baud Rate) | 57600 |\n",
    "| Data Bits | 8 |\n",
    "| Parity | None |\n",
    "| Stop Bits | 1 |\n",
    "| Flow Control | None | "
   ]
  },
  {
   "cell_type": "markdown",
   "metadata": {},
   "source": [
    "## Essential Commands\n",
    "The most useful commands for talking to the device are:\n",
    "\n",
    "| Command | Use |\n",
    "|---------|-----|\n",
    "| &Q      | Query Current Configuration (returns multiple lines) | \n",
    "| &RX     | Set range, '0' is auto range, for others see manual (returns a single line)|\n",
    "| &FXXX   | Sets the filter time constant, allowed values are: '000', '002', '004', '008', '016', '032', and '064'. (returns a single line)|\n",
    "| &IXXXX  | Sets the data sample interval in ms ('0015' to '9999'), '0000' turns off sampling|\n",
    "| &S      | Reguest a sample (returns a single line) |\n",
    "| &VX     | Set number of digits ('5', '6', '7' or '8'), Default is '5' (returns a single line) |\n",
    "\n",
    "For other commands see the manual.\n",
    "\n",
    "Please note you must read the response each time, otherwise when you request data later you will get an earlier response! "
   ]
  },
  {
   "cell_type": "markdown",
   "metadata": {},
   "source": [
    "## The Filter\n",
    "\n",
    "Note that the value for the filter does not have a default value when the device is switched on - it uses whatever values is stored in its eeprom and you will only know what value it is if you read teh device configuration. Therefore, ** please set the filter value explicitly in your code **. Larger values give less-noisy readings but it takes longer for the device to stabilise. You should try different filter values to see which work best for reducing noise in your data."
   ]
  },
  {
   "cell_type": "markdown",
   "metadata": {},
   "source": [
    "## Using Python\n",
    "\n",
    "### PySerial\n",
    "\n",
    "To communicate with a serial device in Python we will use [PySerial](https://pythonhosted.org/pyserial/). **PySerial is installed on all lab computers!** However, if not installed, on Anaconda Python install with with \n",
    "\n",
    "    conda install pyserial \n",
    "    \n",
    "The code below shows how to import pyserial and set up a connection. It is essential to set the timeout as well as otherwise if you try to read the device and it has no data it will block indefinitely."
   ]
  },
  {
   "cell_type": "code",
   "execution_count": 1,
   "metadata": {},
   "outputs": [],
   "source": [
    "import serial\n",
    "\n",
    "ser = serial.Serial(\n",
    "    \"com3\",\n",
    "    baudrate=57600,\n",
    "    bytesize=serial.EIGHTBITS,\n",
    "    parity=serial.PARITY_NONE,\n",
    "    stopbits=serial.STOPBITS_ONE,\n",
    "    xonxoff=False,\n",
    "    timeout=1, # seconds\n",
    ")  "
   ]
  },
  {
   "cell_type": "markdown",
   "metadata": {},
   "source": [
    "Some useful PySerial commands (class functions):\n",
    "\n",
    "```python\n",
    "write(bytearray)  # writes '\\n'-terminated byte array to the device\n",
    "readline()        # returns one line\n",
    "readlines()       # returns multiple lines - needs timeoout to be set to know when to end\n",
    "flush()           # flushes the buffer, wait until all data is written\n",
    "flushInput()      # flush input buffer, discarding all its contents\n",
    "flushOutput()     # clear output buffer, aborting the current output and discarding all that is in the buffer.\n",
    "close()           # close the connection\n",
    "```\n",
    "\n",
    "Note: if the connection is open and you try to open it again an error will occur saying something like:\n",
    "<code>SerialException: could not open port 'com3': PermissionError(13, 'Access is denied.', None, 5)</code>"
   ]
  },
  {
   "cell_type": "markdown",
   "metadata": {},
   "source": [
    "### Strings and byte arrays\n",
    "\n",
    "Arrays of bytes are sent to and read from the device. Thus strings must be converted to bytes and vice-versa. \n",
    "\n",
    "Note: ** It is essential to end every write to the device with a newline ('\\n')**\n",
    "\n",
    "#### To convert a string to bytes use:\n",
    "\n",
    "    bytes(string_name,'utf-8') \n",
    "\n",
    "where 'utf-8' is a common string encoding.\n",
    "\n",
    "#### To convert bytes to a string use:\n",
    "\n",
    "    .decode('utf-8')\n",
    "\n",
    "on the bytes array. \n",
    "\n",
    "Examples below will make clearer.\n",
    "\n",
    "#### Useful helper function:"
   ]
  },
  {
   "cell_type": "code",
   "execution_count": 2,
   "metadata": {
    "collapsed": true
   },
   "outputs": [],
   "source": [
    "def data(mystring):\n",
    "    return bytes(mystring+'\\n','utf-8')"
   ]
  },
  {
   "cell_type": "markdown",
   "metadata": {},
   "source": [
    "### Writing to and reading from the device\n",
    "\n",
    "Write a command with the PySerial <code>write()</code> command.\n",
    "\n",
    "After each write use <code>readline()</code> or <code>readlines()</code> to read back the decive's response, even if you are just setting some parameter (like the range). \n",
    "\n",
    "Notes:\n",
    "\n",
    "* <code>readline()</code> Read a line which is terminated with end-of-line (eol) character ('\\n' by default) or until timeout.\n",
    "\n",
    "* <code>readlines()</code> Read a list of lines, until timeout. Note that this function only returns on a timeout.\n",
    "\n",
    "The byte arrays/strings returned are terminated by carriage returns ('\\r') and newlines ('\\n')"
   ]
  },
  {
   "cell_type": "markdown",
   "metadata": {},
   "source": [
    "### Examples:"
   ]
  },
  {
   "cell_type": "code",
   "execution_count": 3,
   "metadata": {},
   "outputs": [
    {
     "data": {
      "text/plain": [
       "[b'RBD Instruments: PicoAmmeter\\r\\n',\n",
       " b'Firmware Version: 01.37\\r\\n',\n",
       " b'Build: 5-14-13\\r\\n',\n",
       " b'R, Range=AutoR\\r\\n',\n",
       " b'I, sample Interval=0000 mSec\\r\\n',\n",
       " b'L, Chart Log Update Interval=0200 mSec\\r\\n',\n",
       " b'B, BIAS=OFF\\r\\n',\n",
       " b'F, Filter=032\\r\\n',\n",
       " b'V, FormatLen=8\\r\\n',\n",
       " b'CA, Autocal=OFF\\r\\n',\n",
       " b'G, AutoGrounding=DISABLED\\r\\n',\n",
       " b'Q, State=MEASURE\\r\\n',\n",
       " b'P, PID=PHYSICS001\\r\\n']"
      ]
     },
     "execution_count": 3,
     "metadata": {},
     "output_type": "execute_result"
    }
   ],
   "source": [
    "# Example: get current configuration\n",
    "ser.write(data('&Q'))\n",
    "ser.readlines()"
   ]
  },
  {
   "cell_type": "code",
   "execution_count": 4,
   "metadata": {},
   "outputs": [
    {
     "data": {
      "text/plain": [
       "b'&R, Range=AutoR\\r\\n'"
      ]
     },
     "execution_count": 4,
     "metadata": {},
     "output_type": "execute_result"
    }
   ],
   "source": [
    "# Example: put in autorange\n",
    "\n",
    "ser.write(data('&R0')) # put in autorange\n",
    "ser.readline()"
   ]
  },
  {
   "cell_type": "code",
   "execution_count": 5,
   "metadata": {},
   "outputs": [
    {
     "data": {
      "text/plain": [
       "b'&V, FormatLen=8\\r\\n'"
      ]
     },
     "execution_count": 5,
     "metadata": {},
     "output_type": "execute_result"
    }
   ],
   "source": [
    "# Example: Set number of Digits\n",
    "\n",
    "ser.write(data('&V8')) # 8 decimal places\n",
    "ser.readline()"
   ]
  },
  {
   "cell_type": "markdown",
   "metadata": {},
   "source": [
    "### To remove trailing '\\r\\n'\n",
    "\n",
    "As can be seen above, the byte arrays returned have a trailing '\\r\\n' (carriage return and newline). Both can be removed once the bytearay is converted to a string using the string <code>.rstrip()</code> function"
   ]
  },
  {
   "cell_type": "markdown",
   "metadata": {},
   "source": [
    "### Reading current samples.\n",
    "\n",
    "When the <code>'&S'</code> is sent the device returns a byte array that contains information (comma separated) on the status, range, the current and the scale. This byte array will have to be converted to a string, have the trailing '\\r' and '\\n' removed, split and then converted into an appropriate numberic value.\n",
    "\n",
    "The allowed ranges are 'nA, 'uA', 'mA', so the range will have to be checked and the numeric value multiplied by the appropriate scale factor.\n",
    "\n",
    "The first part of the returned command is usually '&S=' but unstable values are reported with an asterix, e,g.\n",
    "\n",
    "    &S*,Range=002mA,+0.0009572,mA \n",
    "The manual states that after changing the range it may take a few readings before the readings are stable and accurate.\n",
    "\n",
    "Also, over-range status is indicated by a '>' and under-range status by a '<' after the '&S', so **one should always check the first character after the '&S' to determine the trustworthyness of the results**, and re-read or change the scale (if not on autoranging) and re-read. **If the scale is giving under-range or over-range status then the results cannot be trusted** - in fact the (low and incorrect) current readings given when the picoammeter is in an over-range state looks exactly like the plateauing expected from saturation in the nuvistor triode experiment.  \n",
    "\n",
    "Also, note that the manual says that the stated accuracy is achieved after 1 hour warm up."
   ]
  },
  {
   "cell_type": "code",
   "execution_count": 6,
   "metadata": {
    "scrolled": true
   },
   "outputs": [
    {
     "name": "stdout",
     "output_type": "stream",
     "text": [
      "&S*,Range=200uA,+000.04407,uA\n"
     ]
    }
   ],
   "source": [
    "# Example: request a sample:\n",
    "\n",
    "ser.write(data(\"&S\"))\n",
    "\n",
    "ans = ser.readline().decode(\"utf-8\").rstrip()\n",
    "# convert bytes to string and remove trailing newline and CR\n",
    "\n",
    "print(ans)"
   ]
  },
  {
   "cell_type": "code",
   "execution_count": 7,
   "metadata": {},
   "outputs": [
    {
     "data": {
      "text/plain": [
       "['&S*', 'Range=200uA', '+000.04407', 'uA']"
      ]
     },
     "execution_count": 7,
     "metadata": {},
     "output_type": "execute_result"
    }
   ],
   "source": [
    "ans.split(',')"
   ]
  },
  {
   "cell_type": "markdown",
   "metadata": {},
   "source": [
    "It is very straightforward in Python to convert the above into a numeric value for plotting and calculation."
   ]
  },
  {
   "cell_type": "markdown",
   "metadata": {},
   "source": [
    "## Troubleshooting & Notes\n",
    "\n",
    "* Remember to end commands sent to the device with a '\\n' and to read the response string.\n",
    "* If the device is giving strange readings (e.g. you get a response (e.g. &S=,...) and you did not expect this response then the device may be in sampling mode. The suggested procedure is to flush the input, set the sampling interval to 0000 and then check the response string. If this fixes things then send '&Z' to the device to store the current configuration as device power-on default (i.e. in the eprom).\n",
    "* In one place in the user manual it says that '&D' is a factory reset. It is not! It simply reloads the default device settings as for power on (i.e. from its eprom)  \n",
    "* '&PXXXXXXXXXX' sets the 10-character device id.\n",
    "\n"
   ]
  }
 ],
 "metadata": {
  "kernelspec": {
   "display_name": "Python 3",
   "language": "python",
   "name": "python3"
  },
  "language_info": {
   "codemirror_mode": {
    "name": "ipython",
    "version": 3
   },
   "file_extension": ".py",
   "mimetype": "text/x-python",
   "name": "python",
   "nbconvert_exporter": "python",
   "pygments_lexer": "ipython3",
   "version": "3.7.3"
  }
 },
 "nbformat": 4,
 "nbformat_minor": 1
}
